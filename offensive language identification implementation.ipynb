{
 "cells": [
  {
   "cell_type": "code",
   "execution_count": 30,
   "metadata": {},
   "outputs": [],
   "source": [
    "import numpy as np\n",
    "import pandas as pd\n",
    "from nltk import *"
   ]
  },
  {
   "cell_type": "code",
   "execution_count": 31,
   "metadata": {
    "scrolled": true
   },
   "outputs": [],
   "source": [
    "df=pd.read_csv('tamil_train.csv')"
   ]
  },
  {
   "cell_type": "code",
   "execution_count": 32,
   "metadata": {},
   "outputs": [
    {
     "data": {
      "text/html": [
       "<div>\n",
       "<style scoped>\n",
       "    .dataframe tbody tr th:only-of-type {\n",
       "        vertical-align: middle;\n",
       "    }\n",
       "\n",
       "    .dataframe tbody tr th {\n",
       "        vertical-align: top;\n",
       "    }\n",
       "\n",
       "    .dataframe thead th {\n",
       "        text-align: right;\n",
       "    }\n",
       "</style>\n",
       "<table border=\"1\" class=\"dataframe\">\n",
       "  <thead>\n",
       "    <tr style=\"text-align: right;\">\n",
       "      <th></th>\n",
       "      <th>movie vara level la Erika poguthu</th>\n",
       "      <th>Not_offensive</th>\n",
       "    </tr>\n",
       "  </thead>\n",
       "  <tbody>\n",
       "    <tr>\n",
       "      <th>0</th>\n",
       "      <td>I love Ajith Kumar Vivegam movie inki mjy bht ...</td>\n",
       "      <td>not-Tamil</td>\n",
       "    </tr>\n",
       "    <tr>\n",
       "      <th>1</th>\n",
       "      <td>Padam nalla comedy padama irukum polaye..</td>\n",
       "      <td>Not_offensive</td>\n",
       "    </tr>\n",
       "    <tr>\n",
       "      <th>2</th>\n",
       "      <td>karthick subburaj anne .... intha padam vetri ...</td>\n",
       "      <td>Not_offensive</td>\n",
       "    </tr>\n",
       "    <tr>\n",
       "      <th>3</th>\n",
       "      <td>கவுண்டர் தேவர்.சார்பாக வெற்றி பெற வாழ்த்துக்கள் 🦁</td>\n",
       "      <td>Not_offensive</td>\n",
       "    </tr>\n",
       "    <tr>\n",
       "      <th>4</th>\n",
       "      <td>ippo intha trailer ah parkuravana oru like pod...</td>\n",
       "      <td>Not_offensive</td>\n",
       "    </tr>\n",
       "  </tbody>\n",
       "</table>\n",
       "</div>"
      ],
      "text/plain": [
       "                   movie vara level la Erika poguthu  Not_offensive\n",
       "0  I love Ajith Kumar Vivegam movie inki mjy bht ...      not-Tamil\n",
       "1          Padam nalla comedy padama irukum polaye..  Not_offensive\n",
       "2  karthick subburaj anne .... intha padam vetri ...  Not_offensive\n",
       "3  கவுண்டர் தேவர்.சார்பாக வெற்றி பெற வாழ்த்துக்கள் 🦁  Not_offensive\n",
       "4  ippo intha trailer ah parkuravana oru like pod...  Not_offensive"
      ]
     },
     "execution_count": 32,
     "metadata": {},
     "output_type": "execute_result"
    }
   ],
   "source": [
    "df.head()"
   ]
  },
  {
   "cell_type": "code",
   "execution_count": 33,
   "metadata": {
    "scrolled": true
   },
   "outputs": [
    {
     "data": {
      "text/plain": [
       "array(['not-Tamil', 'Not_offensive', 'Offensive_Targeted_Insult_Other',\n",
       "       'Offensive_Targeted_Insult_Group', 'Offensive_Untargetede',\n",
       "       'Offensive_Targeted_Insult_Individual'], dtype=object)"
      ]
     },
     "execution_count": 33,
     "metadata": {},
     "output_type": "execute_result"
    }
   ],
   "source": [
    "df.Not_offensive.unique() "
   ]
  },
  {
   "cell_type": "code",
   "execution_count": 34,
   "metadata": {},
   "outputs": [
    {
     "data": {
      "text/plain": [
       "(35138, 2)"
      ]
     },
     "execution_count": 34,
     "metadata": {},
     "output_type": "execute_result"
    }
   ],
   "source": [
    "df.shape"
   ]
  },
  {
   "cell_type": "code",
   "execution_count": 35,
   "metadata": {},
   "outputs": [],
   "source": [
    "df1=pd.DataFrame({\"movie vara level la Erika poguthu\":[\"movie vara level la Erika poguthu\"],\n",
    "                 \"Not_offensive\":[\"Not_offensive\"]})"
   ]
  },
  {
   "cell_type": "code",
   "execution_count": 36,
   "metadata": {},
   "outputs": [
    {
     "data": {
      "text/html": [
       "<div>\n",
       "<style scoped>\n",
       "    .dataframe tbody tr th:only-of-type {\n",
       "        vertical-align: middle;\n",
       "    }\n",
       "\n",
       "    .dataframe tbody tr th {\n",
       "        vertical-align: top;\n",
       "    }\n",
       "\n",
       "    .dataframe thead th {\n",
       "        text-align: right;\n",
       "    }\n",
       "</style>\n",
       "<table border=\"1\" class=\"dataframe\">\n",
       "  <thead>\n",
       "    <tr style=\"text-align: right;\">\n",
       "      <th></th>\n",
       "      <th>movie vara level la Erika poguthu</th>\n",
       "      <th>Not_offensive</th>\n",
       "    </tr>\n",
       "  </thead>\n",
       "  <tbody>\n",
       "    <tr>\n",
       "      <th>0</th>\n",
       "      <td>movie vara level la Erika poguthu</td>\n",
       "      <td>Not_offensive</td>\n",
       "    </tr>\n",
       "  </tbody>\n",
       "</table>\n",
       "</div>"
      ],
      "text/plain": [
       "   movie vara level la Erika poguthu  Not_offensive\n",
       "0  movie vara level la Erika poguthu  Not_offensive"
      ]
     },
     "execution_count": 36,
     "metadata": {},
     "output_type": "execute_result"
    }
   ],
   "source": [
    "df1.head()"
   ]
  },
  {
   "cell_type": "code",
   "execution_count": 37,
   "metadata": {},
   "outputs": [],
   "source": [
    "data=df1.append(df, ignore_index = True)"
   ]
  },
  {
   "cell_type": "code",
   "execution_count": 38,
   "metadata": {},
   "outputs": [
    {
     "data": {
      "text/html": [
       "<div>\n",
       "<style scoped>\n",
       "    .dataframe tbody tr th:only-of-type {\n",
       "        vertical-align: middle;\n",
       "    }\n",
       "\n",
       "    .dataframe tbody tr th {\n",
       "        vertical-align: top;\n",
       "    }\n",
       "\n",
       "    .dataframe thead th {\n",
       "        text-align: right;\n",
       "    }\n",
       "</style>\n",
       "<table border=\"1\" class=\"dataframe\">\n",
       "  <thead>\n",
       "    <tr style=\"text-align: right;\">\n",
       "      <th></th>\n",
       "      <th>movie vara level la Erika poguthu</th>\n",
       "      <th>Not_offensive</th>\n",
       "    </tr>\n",
       "  </thead>\n",
       "  <tbody>\n",
       "    <tr>\n",
       "      <th>0</th>\n",
       "      <td>movie vara level la Erika poguthu</td>\n",
       "      <td>Not_offensive</td>\n",
       "    </tr>\n",
       "    <tr>\n",
       "      <th>1</th>\n",
       "      <td>I love Ajith Kumar Vivegam movie inki mjy bht ...</td>\n",
       "      <td>not-Tamil</td>\n",
       "    </tr>\n",
       "    <tr>\n",
       "      <th>2</th>\n",
       "      <td>Padam nalla comedy padama irukum polaye..</td>\n",
       "      <td>Not_offensive</td>\n",
       "    </tr>\n",
       "    <tr>\n",
       "      <th>3</th>\n",
       "      <td>karthick subburaj anne .... intha padam vetri ...</td>\n",
       "      <td>Not_offensive</td>\n",
       "    </tr>\n",
       "    <tr>\n",
       "      <th>4</th>\n",
       "      <td>கவுண்டர் தேவர்.சார்பாக வெற்றி பெற வாழ்த்துக்கள் 🦁</td>\n",
       "      <td>Not_offensive</td>\n",
       "    </tr>\n",
       "  </tbody>\n",
       "</table>\n",
       "</div>"
      ],
      "text/plain": [
       "                   movie vara level la Erika poguthu  Not_offensive\n",
       "0                  movie vara level la Erika poguthu  Not_offensive\n",
       "1  I love Ajith Kumar Vivegam movie inki mjy bht ...      not-Tamil\n",
       "2          Padam nalla comedy padama irukum polaye..  Not_offensive\n",
       "3  karthick subburaj anne .... intha padam vetri ...  Not_offensive\n",
       "4  கவுண்டர் தேவர்.சார்பாக வெற்றி பெற வாழ்த்துக்கள் 🦁  Not_offensive"
      ]
     },
     "execution_count": 38,
     "metadata": {},
     "output_type": "execute_result"
    }
   ],
   "source": [
    "data.head()"
   ]
  },
  {
   "cell_type": "code",
   "execution_count": 39,
   "metadata": {
    "scrolled": true
   },
   "outputs": [],
   "source": [
    "data1=data.rename(columns={\"movie vara level la Erika poguthu\": \"text\", \"Not_offensive\": \"label\"})"
   ]
  },
  {
   "cell_type": "code",
   "execution_count": 40,
   "metadata": {},
   "outputs": [
    {
     "data": {
      "text/plain": [
       "(35139, 2)"
      ]
     },
     "execution_count": 40,
     "metadata": {},
     "output_type": "execute_result"
    }
   ],
   "source": [
    "data1.shape"
   ]
  },
  {
   "cell_type": "code",
   "execution_count": 41,
   "metadata": {
    "scrolled": true
   },
   "outputs": [
    {
     "data": {
      "text/html": [
       "<div>\n",
       "<style scoped>\n",
       "    .dataframe tbody tr th:only-of-type {\n",
       "        vertical-align: middle;\n",
       "    }\n",
       "\n",
       "    .dataframe tbody tr th {\n",
       "        vertical-align: top;\n",
       "    }\n",
       "\n",
       "    .dataframe thead th {\n",
       "        text-align: right;\n",
       "    }\n",
       "</style>\n",
       "<table border=\"1\" class=\"dataframe\">\n",
       "  <thead>\n",
       "    <tr style=\"text-align: right;\">\n",
       "      <th></th>\n",
       "      <th>text</th>\n",
       "      <th>label</th>\n",
       "    </tr>\n",
       "  </thead>\n",
       "  <tbody>\n",
       "    <tr>\n",
       "      <th>0</th>\n",
       "      <td>movie vara level la Erika poguthu</td>\n",
       "      <td>Not_offensive</td>\n",
       "    </tr>\n",
       "    <tr>\n",
       "      <th>1</th>\n",
       "      <td>I love Ajith Kumar Vivegam movie inki mjy bht ...</td>\n",
       "      <td>not-Tamil</td>\n",
       "    </tr>\n",
       "    <tr>\n",
       "      <th>2</th>\n",
       "      <td>Padam nalla comedy padama irukum polaye..</td>\n",
       "      <td>Not_offensive</td>\n",
       "    </tr>\n",
       "    <tr>\n",
       "      <th>3</th>\n",
       "      <td>karthick subburaj anne .... intha padam vetri ...</td>\n",
       "      <td>Not_offensive</td>\n",
       "    </tr>\n",
       "    <tr>\n",
       "      <th>4</th>\n",
       "      <td>கவுண்டர் தேவர்.சார்பாக வெற்றி பெற வாழ்த்துக்கள் 🦁</td>\n",
       "      <td>Not_offensive</td>\n",
       "    </tr>\n",
       "  </tbody>\n",
       "</table>\n",
       "</div>"
      ],
      "text/plain": [
       "                                                text          label\n",
       "0                  movie vara level la Erika poguthu  Not_offensive\n",
       "1  I love Ajith Kumar Vivegam movie inki mjy bht ...      not-Tamil\n",
       "2          Padam nalla comedy padama irukum polaye..  Not_offensive\n",
       "3  karthick subburaj anne .... intha padam vetri ...  Not_offensive\n",
       "4  கவுண்டர் தேவர்.சார்பாக வெற்றி பெற வாழ்த்துக்கள் 🦁  Not_offensive"
      ]
     },
     "execution_count": 41,
     "metadata": {},
     "output_type": "execute_result"
    }
   ],
   "source": [
    "data1.head()"
   ]
  },
  {
   "cell_type": "code",
   "execution_count": 42,
   "metadata": {
    "scrolled": true
   },
   "outputs": [],
   "source": [
    "from sklearn.preprocessing import LabelEncoder\n",
    "labelencoder=LabelEncoder()\n",
    "data1['Label']=labelencoder.fit_transform(data1['label'])"
   ]
  },
  {
   "cell_type": "code",
   "execution_count": 43,
   "metadata": {},
   "outputs": [
    {
     "data": {
      "text/html": [
       "<div>\n",
       "<style scoped>\n",
       "    .dataframe tbody tr th:only-of-type {\n",
       "        vertical-align: middle;\n",
       "    }\n",
       "\n",
       "    .dataframe tbody tr th {\n",
       "        vertical-align: top;\n",
       "    }\n",
       "\n",
       "    .dataframe thead th {\n",
       "        text-align: right;\n",
       "    }\n",
       "</style>\n",
       "<table border=\"1\" class=\"dataframe\">\n",
       "  <thead>\n",
       "    <tr style=\"text-align: right;\">\n",
       "      <th></th>\n",
       "      <th>text</th>\n",
       "      <th>label</th>\n",
       "      <th>Label</th>\n",
       "    </tr>\n",
       "  </thead>\n",
       "  <tbody>\n",
       "    <tr>\n",
       "      <th>0</th>\n",
       "      <td>movie vara level la Erika poguthu</td>\n",
       "      <td>Not_offensive</td>\n",
       "      <td>0</td>\n",
       "    </tr>\n",
       "    <tr>\n",
       "      <th>1</th>\n",
       "      <td>I love Ajith Kumar Vivegam movie inki mjy bht ...</td>\n",
       "      <td>not-Tamil</td>\n",
       "      <td>5</td>\n",
       "    </tr>\n",
       "    <tr>\n",
       "      <th>2</th>\n",
       "      <td>Padam nalla comedy padama irukum polaye..</td>\n",
       "      <td>Not_offensive</td>\n",
       "      <td>0</td>\n",
       "    </tr>\n",
       "    <tr>\n",
       "      <th>3</th>\n",
       "      <td>karthick subburaj anne .... intha padam vetri ...</td>\n",
       "      <td>Not_offensive</td>\n",
       "      <td>0</td>\n",
       "    </tr>\n",
       "    <tr>\n",
       "      <th>4</th>\n",
       "      <td>கவுண்டர் தேவர்.சார்பாக வெற்றி பெற வாழ்த்துக்கள் 🦁</td>\n",
       "      <td>Not_offensive</td>\n",
       "      <td>0</td>\n",
       "    </tr>\n",
       "  </tbody>\n",
       "</table>\n",
       "</div>"
      ],
      "text/plain": [
       "                                                text          label  Label\n",
       "0                  movie vara level la Erika poguthu  Not_offensive      0\n",
       "1  I love Ajith Kumar Vivegam movie inki mjy bht ...      not-Tamil      5\n",
       "2          Padam nalla comedy padama irukum polaye..  Not_offensive      0\n",
       "3  karthick subburaj anne .... intha padam vetri ...  Not_offensive      0\n",
       "4  கவுண்டர் தேவர்.சார்பாக வெற்றி பெற வாழ்த்துக்கள் 🦁  Not_offensive      0"
      ]
     },
     "execution_count": 43,
     "metadata": {},
     "output_type": "execute_result"
    }
   ],
   "source": [
    "data1.head()"
   ]
  },
  {
   "cell_type": "code",
   "execution_count": 44,
   "metadata": {},
   "outputs": [
    {
     "data": {
      "text/plain": [
       "0    25425\n",
       "4     2906\n",
       "1     2557\n",
       "2     2343\n",
       "5     1454\n",
       "3      454\n",
       "Name: Label, dtype: int64"
      ]
     },
     "execution_count": 44,
     "metadata": {},
     "output_type": "execute_result"
    }
   ],
   "source": [
    "data1['Label'].value_counts()"
   ]
  },
  {
   "cell_type": "code",
   "execution_count": 45,
   "metadata": {
    "scrolled": true
   },
   "outputs": [
    {
     "data": {
      "text/plain": [
       "array([0, 5, 0, ..., 0, 5, 0])"
      ]
     },
     "execution_count": 45,
     "metadata": {},
     "output_type": "execute_result"
    }
   ],
   "source": [
    "y=[]\n",
    "y=data1['Label'].values\n",
    "y"
   ]
  },
  {
   "cell_type": "code",
   "execution_count": 46,
   "metadata": {},
   "outputs": [
    {
     "data": {
      "text/plain": [
       "'movie vara level la Erika poguthu'"
      ]
     },
     "execution_count": 46,
     "metadata": {},
     "output_type": "execute_result"
    }
   ],
   "source": [
    "X=[]\n",
    "X=data1['text'].values\n",
    "X[0]"
   ]
  },
  {
   "cell_type": "code",
   "execution_count": 47,
   "metadata": {},
   "outputs": [],
   "source": [
    "import tensorflow as tf\n",
    "import nltk"
   ]
  },
  {
   "cell_type": "code",
   "execution_count": 48,
   "metadata": {},
   "outputs": [
    {
     "name": "stderr",
     "output_type": "stream",
     "text": [
      "[nltk_data] Downloading package stopwords to C:\\Users\\DEVANSH\n",
      "[nltk_data]     JAIN\\AppData\\Roaming\\nltk_data...\n",
      "[nltk_data]   Package stopwords is already up-to-date!\n"
     ]
    },
    {
     "data": {
      "text/plain": [
       "True"
      ]
     },
     "execution_count": 48,
     "metadata": {},
     "output_type": "execute_result"
    }
   ],
   "source": [
    "import re\n",
    "import nltk\n",
    "nltk.download('stopwords')"
   ]
  },
  {
   "cell_type": "code",
   "execution_count": 20,
   "metadata": {
    "scrolled": true
   },
   "outputs": [
    {
     "name": "stdout",
     "output_type": "stream",
     "text": [
      "['i', 'me', 'my', 'myself', 'we', 'our', 'ours', 'ourselves', 'you', \"you're\", \"you've\", \"you'll\", \"you'd\", 'your', 'yours', 'yourself', 'yourselves', 'he', 'him', 'his', 'himself', 'she', \"she's\", 'her', 'hers', 'herself', 'it', \"it's\", 'its', 'itself', 'they', 'them', 'their', 'theirs', 'themselves', 'what', 'which', 'who', 'whom', 'this', 'that', \"that'll\", 'these', 'those', 'am', 'is', 'are', 'was', 'were', 'be', 'been', 'being', 'have', 'has', 'had', 'having', 'do', 'does', 'did', 'doing', 'a', 'an', 'the', 'and', 'but', 'if', 'or', 'because', 'as', 'until', 'while', 'of', 'at', 'by', 'for', 'with', 'about', 'against', 'between', 'into', 'through', 'during', 'before', 'after', 'above', 'below', 'to', 'from', 'up', 'down', 'in', 'out', 'on', 'off', 'over', 'under', 'again', 'further', 'then', 'once', 'here', 'there', 'when', 'where', 'why', 'how', 'all', 'any', 'both', 'each', 'few', 'more', 'most', 'other', 'some', 'such', 'no', 'nor', 'not', 'only', 'own', 'same', 'so', 'than', 'too', 'very', 's', 't', 'can', 'will', 'just', 'don', \"don't\", 'should', \"should've\", 'now', 'd', 'll', 'm', 'o', 're', 've', 'y', 'ain', 'aren', \"aren't\", 'couldn', \"couldn't\", 'didn', \"didn't\", 'doesn', \"doesn't\", 'hadn', \"hadn't\", 'hasn', \"hasn't\", 'haven', \"haven't\", 'isn', \"isn't\", 'ma', 'mightn', \"mightn't\", 'mustn', \"mustn't\", 'needn', \"needn't\", 'shan', \"shan't\", 'shouldn', \"shouldn't\", 'wasn', \"wasn't\", 'weren', \"weren't\", 'won', \"won't\", 'wouldn', \"wouldn't\"]\n"
     ]
    }
   ],
   "source": [
    "from nltk.corpus import stopwords\n",
    "stopwords=stopwords.words(\"english\")\n",
    "print(stopwords)"
   ]
  },
  {
   "cell_type": "code",
   "execution_count": 21,
   "metadata": {},
   "outputs": [
    {
     "name": "stderr",
     "output_type": "stream",
     "text": [
      "[nltk_data] Downloading package punkt to C:\\Users\\DEVANSH\n",
      "[nltk_data]     JAIN\\AppData\\Roaming\\nltk_data...\n",
      "[nltk_data]   Package punkt is already up-to-date!\n"
     ]
    }
   ],
   "source": [
    "nltk.download('punkt')\n",
    "data1['text_token'] = data1['text'].apply(lambda x: word_tokenize(x))"
   ]
  },
  {
   "cell_type": "code",
   "execution_count": 22,
   "metadata": {},
   "outputs": [
    {
     "data": {
      "text/html": [
       "<div>\n",
       "<style scoped>\n",
       "    .dataframe tbody tr th:only-of-type {\n",
       "        vertical-align: middle;\n",
       "    }\n",
       "\n",
       "    .dataframe tbody tr th {\n",
       "        vertical-align: top;\n",
       "    }\n",
       "\n",
       "    .dataframe thead th {\n",
       "        text-align: right;\n",
       "    }\n",
       "</style>\n",
       "<table border=\"1\" class=\"dataframe\">\n",
       "  <thead>\n",
       "    <tr style=\"text-align: right;\">\n",
       "      <th></th>\n",
       "      <th>text</th>\n",
       "      <th>label</th>\n",
       "      <th>Label</th>\n",
       "      <th>text_token</th>\n",
       "    </tr>\n",
       "  </thead>\n",
       "  <tbody>\n",
       "    <tr>\n",
       "      <th>0</th>\n",
       "      <td>movie vara level la Erika poguthu</td>\n",
       "      <td>Not_offensive</td>\n",
       "      <td>0</td>\n",
       "      <td>[movie, vara, level, la, Erika, poguthu]</td>\n",
       "    </tr>\n",
       "    <tr>\n",
       "      <th>1</th>\n",
       "      <td>I love Ajith Kumar Vivegam movie inki mjy bht ...</td>\n",
       "      <td>not-Tamil</td>\n",
       "      <td>5</td>\n",
       "      <td>[I, love, Ajith, Kumar, Vivegam, movie, inki, ...</td>\n",
       "    </tr>\n",
       "    <tr>\n",
       "      <th>2</th>\n",
       "      <td>Padam nalla comedy padama irukum polaye..</td>\n",
       "      <td>Not_offensive</td>\n",
       "      <td>0</td>\n",
       "      <td>[Padam, nalla, comedy, padama, irukum, polaye..]</td>\n",
       "    </tr>\n",
       "    <tr>\n",
       "      <th>3</th>\n",
       "      <td>karthick subburaj anne .... intha padam vetri ...</td>\n",
       "      <td>Not_offensive</td>\n",
       "      <td>0</td>\n",
       "      <td>[karthick, subburaj, anne, ..., ., intha, pada...</td>\n",
       "    </tr>\n",
       "    <tr>\n",
       "      <th>4</th>\n",
       "      <td>கவுண்டர் தேவர்.சார்பாக வெற்றி பெற வாழ்த்துக்கள் 🦁</td>\n",
       "      <td>Not_offensive</td>\n",
       "      <td>0</td>\n",
       "      <td>[கவுண்டர், தேவர்.சார்பாக, வெற்றி, பெற, வாழ்த்த...</td>\n",
       "    </tr>\n",
       "    <tr>\n",
       "      <th>5</th>\n",
       "      <td>ippo intha trailer ah parkuravana oru like pod...</td>\n",
       "      <td>Not_offensive</td>\n",
       "      <td>0</td>\n",
       "      <td>[ippo, intha, trailer, ah, parkuravana, oru, l...</td>\n",
       "    </tr>\n",
       "    <tr>\n",
       "      <th>6</th>\n",
       "      <td>En thalaivan yogi babu irukkaar. Padam vera le...</td>\n",
       "      <td>Not_offensive</td>\n",
       "      <td>0</td>\n",
       "      <td>[En, thalaivan, yogi, babu, irukkaar, ., Padam...</td>\n",
       "    </tr>\n",
       "    <tr>\n",
       "      <th>7</th>\n",
       "      <td>Nerkonda parvai...  Sema sema sema trailer</td>\n",
       "      <td>Not_offensive</td>\n",
       "      <td>0</td>\n",
       "      <td>[Nerkonda, parvai, ..., Sema, sema, sema, trai...</td>\n",
       "    </tr>\n",
       "    <tr>\n",
       "      <th>8</th>\n",
       "      <td>ஏய் இது 96 யார் ஏமாத்தறீங்க? செம பின்னிட்டீங்க</td>\n",
       "      <td>Not_offensive</td>\n",
       "      <td>0</td>\n",
       "      <td>[ஏய், இது, 96, யார், ஏமாத்தறீங்க, ?, செம, பின்...</td>\n",
       "    </tr>\n",
       "    <tr>\n",
       "      <th>9</th>\n",
       "      <td>படம் கண்டிப்பாக வெற்றி பெற வேண்டும் செம்ம vara...</td>\n",
       "      <td>Not_offensive</td>\n",
       "      <td>0</td>\n",
       "      <td>[படம், கண்டிப்பாக, வெற்றி, பெற, வேண்டும், செம்...</td>\n",
       "    </tr>\n",
       "    <tr>\n",
       "      <th>10</th>\n",
       "      <td>Correct. Enga apa military da oodi vilaiyada s...</td>\n",
       "      <td>Offensive_Targeted_Insult_Other</td>\n",
       "      <td>3</td>\n",
       "      <td>[Correct, ., Enga, apa, military, da, oodi, vi...</td>\n",
       "    </tr>\n",
       "    <tr>\n",
       "      <th>11</th>\n",
       "      <td>Dislike pottavan ratham khaki dha savan</td>\n",
       "      <td>Not_offensive</td>\n",
       "      <td>0</td>\n",
       "      <td>[Dislike, pottavan, ratham, khaki, dha, savan]</td>\n",
       "    </tr>\n",
       "    <tr>\n",
       "      <th>12</th>\n",
       "      <td>ANANDHI ARMY HIT LIKE!! Ennayum ipdi aakitinga...</td>\n",
       "      <td>Not_offensive</td>\n",
       "      <td>0</td>\n",
       "      <td>[ANANDHI, ARMY, HIT, LIKE, !, !, Ennayum, ipdi...</td>\n",
       "    </tr>\n",
       "    <tr>\n",
       "      <th>13</th>\n",
       "      <td>Thalaivaa mass nadipin nayagan surya anna fans...</td>\n",
       "      <td>Not_offensive</td>\n",
       "      <td>0</td>\n",
       "      <td>[Thalaivaa, mass, nadipin, nayagan, surya, ann...</td>\n",
       "    </tr>\n",
       "    <tr>\n",
       "      <th>14</th>\n",
       "      <td>இந்த படம் கண்டிப்பாக வெற்றியடைய வேண்டும் என வா...</td>\n",
       "      <td>Not_offensive</td>\n",
       "      <td>0</td>\n",
       "      <td>[இந்த, படம், கண்டிப்பாக, வெற்றியடைய, வேண்டும்,...</td>\n",
       "    </tr>\n",
       "    <tr>\n",
       "      <th>15</th>\n",
       "      <td>Hit like if anybody laughed during this 1.06 ....</td>\n",
       "      <td>Not_offensive</td>\n",
       "      <td>0</td>\n",
       "      <td>[Hit, like, if, anybody, laughed, during, this...</td>\n",
       "    </tr>\n",
       "    <tr>\n",
       "      <th>16</th>\n",
       "      <td>I Love vijay Anna, u r so cute anna</td>\n",
       "      <td>Not_offensive</td>\n",
       "      <td>0</td>\n",
       "      <td>[I, Love, vijay, Anna, ,, u, r, so, cute, anna]</td>\n",
       "    </tr>\n",
       "    <tr>\n",
       "      <th>17</th>\n",
       "      <td>Dei Rajini pavam da ne varaven poraven ellam k...</td>\n",
       "      <td>Offensive_Targeted_Insult_Group</td>\n",
       "      <td>1</td>\n",
       "      <td>[Dei, Rajini, pavam, da, ne, varaven, poraven,...</td>\n",
       "    </tr>\n",
       "    <tr>\n",
       "      <th>18</th>\n",
       "      <td>செட்டியார் இன மக்கள் சார்பாக எனது சொந்த செலவில...</td>\n",
       "      <td>Not_offensive</td>\n",
       "      <td>0</td>\n",
       "      <td>[செட்டியார், இன, மக்கள், சார்பாக, எனது, சொந்த,...</td>\n",
       "    </tr>\n",
       "    <tr>\n",
       "      <th>19</th>\n",
       "      <td>Dhanush fans hit like here.....</td>\n",
       "      <td>Not_offensive</td>\n",
       "      <td>0</td>\n",
       "      <td>[Dhanush, fans, hit, like, here, ..., ..]</td>\n",
       "    </tr>\n",
       "    <tr>\n",
       "      <th>20</th>\n",
       "      <td>Dey dey deyyy,, loosu pasangala,, munna pinna ...</td>\n",
       "      <td>Offensive_Targeted_Insult_Group</td>\n",
       "      <td>1</td>\n",
       "      <td>[Dey, dey, deyyy, ,, ,, loosu, pasangala, ,, ,...</td>\n",
       "    </tr>\n",
       "    <tr>\n",
       "      <th>21</th>\n",
       "      <td>aathii yenna pa different aah eruku sama</td>\n",
       "      <td>Not_offensive</td>\n",
       "      <td>0</td>\n",
       "      <td>[aathii, yenna, pa, different, aah, eruku, sama]</td>\n",
       "    </tr>\n",
       "    <tr>\n",
       "      <th>22</th>\n",
       "      <td>Viswasam teaser Ku aprm yarllam inga vanteenga?</td>\n",
       "      <td>Not_offensive</td>\n",
       "      <td>0</td>\n",
       "      <td>[Viswasam, teaser, Ku, aprm, yarllam, inga, va...</td>\n",
       "    </tr>\n",
       "    <tr>\n",
       "      <th>23</th>\n",
       "      <td>Intha maari comments ku like kekuravangala ind...</td>\n",
       "      <td>Offensive_Untargetede</td>\n",
       "      <td>4</td>\n",
       "      <td>[Intha, maari, comments, ku, like, kekuravanga...</td>\n",
       "    </tr>\n",
       "    <tr>\n",
       "      <th>24</th>\n",
       "      <td>250 k likes ineram sila arivuketta pundaika it...</td>\n",
       "      <td>Offensive_Untargetede</td>\n",
       "      <td>4</td>\n",
       "      <td>[250, k, likes, ineram, sila, arivuketta, pund...</td>\n",
       "    </tr>\n",
       "    <tr>\n",
       "      <th>25</th>\n",
       "      <td>Ellam okay than....but antha ponnu aasa pattu ...</td>\n",
       "      <td>Not_offensive</td>\n",
       "      <td>0</td>\n",
       "      <td>[Ellam, okay, than, ..., .but, antha, ponnu, a...</td>\n",
       "    </tr>\n",
       "    <tr>\n",
       "      <th>26</th>\n",
       "      <td>Short film ah yum vittu vakalaya... Enada pann...</td>\n",
       "      <td>Offensive_Untargetede</td>\n",
       "      <td>4</td>\n",
       "      <td>[Short, film, ah, yum, vittu, vakalaya, ..., E...</td>\n",
       "    </tr>\n",
       "    <tr>\n",
       "      <th>27</th>\n",
       "      <td>Super  i am waiting</td>\n",
       "      <td>Not_offensive</td>\n",
       "      <td>0</td>\n",
       "      <td>[Super, i, am, waiting]</td>\n",
       "    </tr>\n",
       "    <tr>\n",
       "      <th>28</th>\n",
       "      <td>Any Nani and Surya mutual fans?</td>\n",
       "      <td>Not_offensive</td>\n",
       "      <td>0</td>\n",
       "      <td>[Any, Nani, and, Surya, mutual, fans, ?]</td>\n",
       "    </tr>\n",
       "    <tr>\n",
       "      <th>29</th>\n",
       "      <td>தமிழ் நாட்ல இருக்குற சாதிய பைத்தியகார கூதியானு...</td>\n",
       "      <td>Offensive_Targeted_Insult_Group</td>\n",
       "      <td>1</td>\n",
       "      <td>[தமிழ், நாட்ல, இருக்குற, சாதிய, பைத்தியகார, கூ...</td>\n",
       "    </tr>\n",
       "    <tr>\n",
       "      <th>...</th>\n",
       "      <td>...</td>\n",
       "      <td>...</td>\n",
       "      <td>...</td>\n",
       "      <td>...</td>\n",
       "    </tr>\n",
       "    <tr>\n",
       "      <th>35109</th>\n",
       "      <td>இந்த படத்தை தடுக்க நினைப்பதும் தண்டவாளத்தில் த...</td>\n",
       "      <td>Not_offensive</td>\n",
       "      <td>0</td>\n",
       "      <td>[இந்த, படத்தை, தடுக்க, நினைப்பதும், தண்டவாளத்த...</td>\n",
       "    </tr>\n",
       "    <tr>\n",
       "      <th>35110</th>\n",
       "      <td>Ippo dhan theriyudhu pullingo Mela ellarum evl...</td>\n",
       "      <td>Offensive_Targeted_Insult_Group</td>\n",
       "      <td>1</td>\n",
       "      <td>[Ippo, dhan, theriyudhu, pullingo, Mela, ellar...</td>\n",
       "    </tr>\n",
       "    <tr>\n",
       "      <th>35111</th>\n",
       "      <td>hair style very super punch super ana evaru ya...</td>\n",
       "      <td>Not_offensive</td>\n",
       "      <td>0</td>\n",
       "      <td>[hair, style, very, super, punch, super, ana, ...</td>\n",
       "    </tr>\n",
       "    <tr>\n",
       "      <th>35112</th>\n",
       "      <td>கழிவறை சுத்தம் செய்வதற்கும் வீட்டை சுத்தம் செய...</td>\n",
       "      <td>Not_offensive</td>\n",
       "      <td>0</td>\n",
       "      <td>[கழிவறை, சுத்தம், செய்வதற்கும், வீட்டை, சுத்தம...</td>\n",
       "    </tr>\n",
       "    <tr>\n",
       "      <th>35113</th>\n",
       "      <td>Trailer link maximum share big members Telagra...</td>\n",
       "      <td>Not_offensive</td>\n",
       "      <td>0</td>\n",
       "      <td>[Trailer, link, maximum, share, big, members, ...</td>\n",
       "    </tr>\n",
       "    <tr>\n",
       "      <th>35114</th>\n",
       "      <td>GVP Acting Bathila Music podalam ...athula tha...</td>\n",
       "      <td>Not_offensive</td>\n",
       "      <td>0</td>\n",
       "      <td>[GVP, Acting, Bathila, Music, podalam, ..., at...</td>\n",
       "    </tr>\n",
       "    <tr>\n",
       "      <th>35115</th>\n",
       "      <td>Trailer pakurathu munadi comment and like pana...</td>\n",
       "      <td>Not_offensive</td>\n",
       "      <td>0</td>\n",
       "      <td>[Trailer, pakurathu, munadi, comment, and, lik...</td>\n",
       "    </tr>\n",
       "    <tr>\n",
       "      <th>35116</th>\n",
       "      <td>இந்த நேரத்தில் இந்த படம் தேவையா ? இந்து மாதத்த...</td>\n",
       "      <td>Not_offensive</td>\n",
       "      <td>0</td>\n",
       "      <td>[இந்த, நேரத்தில், இந்த, படம், தேவையா, ?, இந்து...</td>\n",
       "    </tr>\n",
       "    <tr>\n",
       "      <th>35117</th>\n",
       "      <td>Pwoli  rakshit shetty kerala fans</td>\n",
       "      <td>Not_offensive</td>\n",
       "      <td>0</td>\n",
       "      <td>[Pwoli, rakshit, shetty, kerala, fans]</td>\n",
       "    </tr>\n",
       "    <tr>\n",
       "      <th>35118</th>\n",
       "      <td>vaa thala ini namma neram dhaan  now its 420k ...</td>\n",
       "      <td>Not_offensive</td>\n",
       "      <td>0</td>\n",
       "      <td>[vaa, thala, ini, namma, neram, dhaan, now, it...</td>\n",
       "    </tr>\n",
       "    <tr>\n",
       "      <th>35119</th>\n",
       "      <td>Indha trailer ha ha ha ha.</td>\n",
       "      <td>Not_offensive</td>\n",
       "      <td>0</td>\n",
       "      <td>[Indha, trailer, ha, ha, ha, ha, .]</td>\n",
       "    </tr>\n",
       "    <tr>\n",
       "      <th>35120</th>\n",
       "      <td>வணக்கம் மாப்ள சேலத்துல இருந்து... படம் வெற்றி ...</td>\n",
       "      <td>Not_offensive</td>\n",
       "      <td>0</td>\n",
       "      <td>[வணக்கம், மாப்ள, சேலத்துல, இருந்து, ..., படம்,...</td>\n",
       "    </tr>\n",
       "    <tr>\n",
       "      <th>35121</th>\n",
       "      <td>Any one After siriki promo hit like</td>\n",
       "      <td>Not_offensive</td>\n",
       "      <td>0</td>\n",
       "      <td>[Any, one, After, siriki, promo, hit, like]</td>\n",
       "    </tr>\n",
       "    <tr>\n",
       "      <th>35122</th>\n",
       "      <td>Suyama sinthikka therinjavan thaan HERO...But ...</td>\n",
       "      <td>Offensive_Targeted_Insult_Individual</td>\n",
       "      <td>2</td>\n",
       "      <td>[Suyama, sinthikka, therinjavan, thaan, HERO, ...</td>\n",
       "    </tr>\n",
       "    <tr>\n",
       "      <th>35123</th>\n",
       "      <td>pakka vj anna.....uyir rasigan.... #thalapathy...</td>\n",
       "      <td>Not_offensive</td>\n",
       "      <td>0</td>\n",
       "      <td>[pakka, vj, anna, ..., ..uyir, rasigan, ..., ....</td>\n",
       "    </tr>\n",
       "    <tr>\n",
       "      <th>35124</th>\n",
       "      <td>ajith thaathaa un movie nalla illa very very k...</td>\n",
       "      <td>Offensive_Targeted_Insult_Individual</td>\n",
       "      <td>2</td>\n",
       "      <td>[ajith, thaathaa, un, movie, nalla, illa, very...</td>\n",
       "    </tr>\n",
       "    <tr>\n",
       "      <th>35125</th>\n",
       "      <td>Karthi die heartfan  sunya fan🤗</td>\n",
       "      <td>Not_offensive</td>\n",
       "      <td>0</td>\n",
       "      <td>[Karthi, die, heartfan, sunya, fan🤗]</td>\n",
       "    </tr>\n",
       "    <tr>\n",
       "      <th>35126</th>\n",
       "      <td>திருவாரூர் மாவட்ட தேவேந்திர குல வேளாளர் சார்பா...</td>\n",
       "      <td>Not_offensive</td>\n",
       "      <td>0</td>\n",
       "      <td>[திருவாரூர், மாவட்ட, தேவேந்திர, குல, வேளாளர், ...</td>\n",
       "    </tr>\n",
       "    <tr>\n",
       "      <th>35127</th>\n",
       "      <td>🤣🤣🤣Maran waiting la panavendam poi saavunga Aj...</td>\n",
       "      <td>Offensive_Targeted_Insult_Individual</td>\n",
       "      <td>2</td>\n",
       "      <td>[🤣🤣🤣Maran, waiting, la, panavendam, poi, saavu...</td>\n",
       "    </tr>\n",
       "    <tr>\n",
       "      <th>35128</th>\n",
       "      <td>Serial actres Sathya ku oru like potunga</td>\n",
       "      <td>Not_offensive</td>\n",
       "      <td>0</td>\n",
       "      <td>[Serial, actres, Sathya, ku, oru, like, potunga]</td>\n",
       "    </tr>\n",
       "    <tr>\n",
       "      <th>35129</th>\n",
       "      <td>Indha Kalatholo Siva Karthikeyan Nadike Mudiyadhu</td>\n",
       "      <td>Offensive_Targeted_Insult_Individual</td>\n",
       "      <td>2</td>\n",
       "      <td>[Indha, Kalatholo, Siva, Karthikeyan, Nadike, ...</td>\n",
       "    </tr>\n",
       "    <tr>\n",
       "      <th>35130</th>\n",
       "      <td>Naan parha ajith filmle. Entha film miga mosam...</td>\n",
       "      <td>Offensive_Targeted_Insult_Individual</td>\n",
       "      <td>2</td>\n",
       "      <td>[Naan, parha, ajith, filmle, ., Entha, film, m...</td>\n",
       "    </tr>\n",
       "    <tr>\n",
       "      <th>35131</th>\n",
       "      <td>Vijay sethupathi fans hit like</td>\n",
       "      <td>Not_offensive</td>\n",
       "      <td>0</td>\n",
       "      <td>[Vijay, sethupathi, fans, hit, like]</td>\n",
       "    </tr>\n",
       "    <tr>\n",
       "      <th>35132</th>\n",
       "      <td>Thala ulllaipa uyirvu ku rolemodelll nenka thala</td>\n",
       "      <td>Not_offensive</td>\n",
       "      <td>0</td>\n",
       "      <td>[Thala, ulllaipa, uyirvu, ku, rolemodelll, nen...</td>\n",
       "    </tr>\n",
       "    <tr>\n",
       "      <th>35133</th>\n",
       "      <td>inda pathi like thala fans um thandrukanga da ...</td>\n",
       "      <td>Offensive_Targeted_Insult_Individual</td>\n",
       "      <td>2</td>\n",
       "      <td>[inda, pathi, like, thala, fans, um, thandruka...</td>\n",
       "    </tr>\n",
       "    <tr>\n",
       "      <th>35134</th>\n",
       "      <td>Trending number #2 idhukku nammalam karanamnu ...</td>\n",
       "      <td>Not_offensive</td>\n",
       "      <td>0</td>\n",
       "      <td>[Trending, number, #, 2, idhukku, nammalam, ka...</td>\n",
       "    </tr>\n",
       "    <tr>\n",
       "      <th>35135</th>\n",
       "      <td>Movie script super, athuvum HIP HOP Tamizha mu...</td>\n",
       "      <td>Not_offensive</td>\n",
       "      <td>0</td>\n",
       "      <td>[Movie, script, super, ,, athuvum, HIP, HOP, T...</td>\n",
       "    </tr>\n",
       "    <tr>\n",
       "      <th>35136</th>\n",
       "      <td>Just 3k likes for 300k likes</td>\n",
       "      <td>Not_offensive</td>\n",
       "      <td>0</td>\n",
       "      <td>[Just, 3k, likes, for, 300k, likes]</td>\n",
       "    </tr>\n",
       "    <tr>\n",
       "      <th>35137</th>\n",
       "      <td>Aaloo le lo. Kanda le lo.</td>\n",
       "      <td>not-Tamil</td>\n",
       "      <td>5</td>\n",
       "      <td>[Aaloo, le, lo, ., Kanda, le, lo, .]</td>\n",
       "    </tr>\n",
       "    <tr>\n",
       "      <th>35138</th>\n",
       "      <td>நாமக்கல் மாவட்டம்  வன்னியர் சார்பாக திரௌபதி பட...</td>\n",
       "      <td>Not_offensive</td>\n",
       "      <td>0</td>\n",
       "      <td>[நாமக்கல், மாவட்டம், வன்னியர், சார்பாக, திரௌபத...</td>\n",
       "    </tr>\n",
       "  </tbody>\n",
       "</table>\n",
       "<p>35139 rows × 4 columns</p>\n",
       "</div>"
      ],
      "text/plain": [
       "                                                    text  \\\n",
       "0                      movie vara level la Erika poguthu   \n",
       "1      I love Ajith Kumar Vivegam movie inki mjy bht ...   \n",
       "2              Padam nalla comedy padama irukum polaye..   \n",
       "3      karthick subburaj anne .... intha padam vetri ...   \n",
       "4      கவுண்டர் தேவர்.சார்பாக வெற்றி பெற வாழ்த்துக்கள் 🦁   \n",
       "5      ippo intha trailer ah parkuravana oru like pod...   \n",
       "6      En thalaivan yogi babu irukkaar. Padam vera le...   \n",
       "7             Nerkonda parvai...  Sema sema sema trailer   \n",
       "8         ஏய் இது 96 யார் ஏமாத்தறீங்க? செம பின்னிட்டீங்க   \n",
       "9      படம் கண்டிப்பாக வெற்றி பெற வேண்டும் செம்ம vara...   \n",
       "10     Correct. Enga apa military da oodi vilaiyada s...   \n",
       "11               Dislike pottavan ratham khaki dha savan   \n",
       "12     ANANDHI ARMY HIT LIKE!! Ennayum ipdi aakitinga...   \n",
       "13     Thalaivaa mass nadipin nayagan surya anna fans...   \n",
       "14     இந்த படம் கண்டிப்பாக வெற்றியடைய வேண்டும் என வா...   \n",
       "15     Hit like if anybody laughed during this 1.06 ....   \n",
       "16                   I Love vijay Anna, u r so cute anna   \n",
       "17     Dei Rajini pavam da ne varaven poraven ellam k...   \n",
       "18     செட்டியார் இன மக்கள் சார்பாக எனது சொந்த செலவில...   \n",
       "19                       Dhanush fans hit like here.....   \n",
       "20     Dey dey deyyy,, loosu pasangala,, munna pinna ...   \n",
       "21              aathii yenna pa different aah eruku sama   \n",
       "22       Viswasam teaser Ku aprm yarllam inga vanteenga?   \n",
       "23     Intha maari comments ku like kekuravangala ind...   \n",
       "24     250 k likes ineram sila arivuketta pundaika it...   \n",
       "25     Ellam okay than....but antha ponnu aasa pattu ...   \n",
       "26     Short film ah yum vittu vakalaya... Enada pann...   \n",
       "27                                   Super  i am waiting   \n",
       "28                       Any Nani and Surya mutual fans?   \n",
       "29     தமிழ் நாட்ல இருக்குற சாதிய பைத்தியகார கூதியானு...   \n",
       "...                                                  ...   \n",
       "35109  இந்த படத்தை தடுக்க நினைப்பதும் தண்டவாளத்தில் த...   \n",
       "35110  Ippo dhan theriyudhu pullingo Mela ellarum evl...   \n",
       "35111  hair style very super punch super ana evaru ya...   \n",
       "35112  கழிவறை சுத்தம் செய்வதற்கும் வீட்டை சுத்தம் செய...   \n",
       "35113  Trailer link maximum share big members Telagra...   \n",
       "35114  GVP Acting Bathila Music podalam ...athula tha...   \n",
       "35115  Trailer pakurathu munadi comment and like pana...   \n",
       "35116  இந்த நேரத்தில் இந்த படம் தேவையா ? இந்து மாதத்த...   \n",
       "35117                  Pwoli  rakshit shetty kerala fans   \n",
       "35118  vaa thala ini namma neram dhaan  now its 420k ...   \n",
       "35119                         Indha trailer ha ha ha ha.   \n",
       "35120  வணக்கம் மாப்ள சேலத்துல இருந்து... படம் வெற்றி ...   \n",
       "35121                Any one After siriki promo hit like   \n",
       "35122  Suyama sinthikka therinjavan thaan HERO...But ...   \n",
       "35123  pakka vj anna.....uyir rasigan.... #thalapathy...   \n",
       "35124  ajith thaathaa un movie nalla illa very very k...   \n",
       "35125                    Karthi die heartfan  sunya fan🤗   \n",
       "35126  திருவாரூர் மாவட்ட தேவேந்திர குல வேளாளர் சார்பா...   \n",
       "35127  🤣🤣🤣Maran waiting la panavendam poi saavunga Aj...   \n",
       "35128           Serial actres Sathya ku oru like potunga   \n",
       "35129  Indha Kalatholo Siva Karthikeyan Nadike Mudiyadhu   \n",
       "35130  Naan parha ajith filmle. Entha film miga mosam...   \n",
       "35131                     Vijay sethupathi fans hit like   \n",
       "35132   Thala ulllaipa uyirvu ku rolemodelll nenka thala   \n",
       "35133  inda pathi like thala fans um thandrukanga da ...   \n",
       "35134  Trending number #2 idhukku nammalam karanamnu ...   \n",
       "35135  Movie script super, athuvum HIP HOP Tamizha mu...   \n",
       "35136                       Just 3k likes for 300k likes   \n",
       "35137                          Aaloo le lo. Kanda le lo.   \n",
       "35138  நாமக்கல் மாவட்டம்  வன்னியர் சார்பாக திரௌபதி பட...   \n",
       "\n",
       "                                      label  Label  \\\n",
       "0                             Not_offensive      0   \n",
       "1                                 not-Tamil      5   \n",
       "2                             Not_offensive      0   \n",
       "3                             Not_offensive      0   \n",
       "4                             Not_offensive      0   \n",
       "5                             Not_offensive      0   \n",
       "6                             Not_offensive      0   \n",
       "7                             Not_offensive      0   \n",
       "8                             Not_offensive      0   \n",
       "9                             Not_offensive      0   \n",
       "10          Offensive_Targeted_Insult_Other      3   \n",
       "11                            Not_offensive      0   \n",
       "12                            Not_offensive      0   \n",
       "13                            Not_offensive      0   \n",
       "14                            Not_offensive      0   \n",
       "15                            Not_offensive      0   \n",
       "16                            Not_offensive      0   \n",
       "17          Offensive_Targeted_Insult_Group      1   \n",
       "18                            Not_offensive      0   \n",
       "19                            Not_offensive      0   \n",
       "20          Offensive_Targeted_Insult_Group      1   \n",
       "21                            Not_offensive      0   \n",
       "22                            Not_offensive      0   \n",
       "23                    Offensive_Untargetede      4   \n",
       "24                    Offensive_Untargetede      4   \n",
       "25                            Not_offensive      0   \n",
       "26                    Offensive_Untargetede      4   \n",
       "27                            Not_offensive      0   \n",
       "28                            Not_offensive      0   \n",
       "29          Offensive_Targeted_Insult_Group      1   \n",
       "...                                     ...    ...   \n",
       "35109                         Not_offensive      0   \n",
       "35110       Offensive_Targeted_Insult_Group      1   \n",
       "35111                         Not_offensive      0   \n",
       "35112                         Not_offensive      0   \n",
       "35113                         Not_offensive      0   \n",
       "35114                         Not_offensive      0   \n",
       "35115                         Not_offensive      0   \n",
       "35116                         Not_offensive      0   \n",
       "35117                         Not_offensive      0   \n",
       "35118                         Not_offensive      0   \n",
       "35119                         Not_offensive      0   \n",
       "35120                         Not_offensive      0   \n",
       "35121                         Not_offensive      0   \n",
       "35122  Offensive_Targeted_Insult_Individual      2   \n",
       "35123                         Not_offensive      0   \n",
       "35124  Offensive_Targeted_Insult_Individual      2   \n",
       "35125                         Not_offensive      0   \n",
       "35126                         Not_offensive      0   \n",
       "35127  Offensive_Targeted_Insult_Individual      2   \n",
       "35128                         Not_offensive      0   \n",
       "35129  Offensive_Targeted_Insult_Individual      2   \n",
       "35130  Offensive_Targeted_Insult_Individual      2   \n",
       "35131                         Not_offensive      0   \n",
       "35132                         Not_offensive      0   \n",
       "35133  Offensive_Targeted_Insult_Individual      2   \n",
       "35134                         Not_offensive      0   \n",
       "35135                         Not_offensive      0   \n",
       "35136                         Not_offensive      0   \n",
       "35137                             not-Tamil      5   \n",
       "35138                         Not_offensive      0   \n",
       "\n",
       "                                              text_token  \n",
       "0               [movie, vara, level, la, Erika, poguthu]  \n",
       "1      [I, love, Ajith, Kumar, Vivegam, movie, inki, ...  \n",
       "2       [Padam, nalla, comedy, padama, irukum, polaye..]  \n",
       "3      [karthick, subburaj, anne, ..., ., intha, pada...  \n",
       "4      [கவுண்டர், தேவர்.சார்பாக, வெற்றி, பெற, வாழ்த்த...  \n",
       "5      [ippo, intha, trailer, ah, parkuravana, oru, l...  \n",
       "6      [En, thalaivan, yogi, babu, irukkaar, ., Padam...  \n",
       "7      [Nerkonda, parvai, ..., Sema, sema, sema, trai...  \n",
       "8      [ஏய், இது, 96, யார், ஏமாத்தறீங்க, ?, செம, பின்...  \n",
       "9      [படம், கண்டிப்பாக, வெற்றி, பெற, வேண்டும், செம்...  \n",
       "10     [Correct, ., Enga, apa, military, da, oodi, vi...  \n",
       "11        [Dislike, pottavan, ratham, khaki, dha, savan]  \n",
       "12     [ANANDHI, ARMY, HIT, LIKE, !, !, Ennayum, ipdi...  \n",
       "13     [Thalaivaa, mass, nadipin, nayagan, surya, ann...  \n",
       "14     [இந்த, படம், கண்டிப்பாக, வெற்றியடைய, வேண்டும்,...  \n",
       "15     [Hit, like, if, anybody, laughed, during, this...  \n",
       "16       [I, Love, vijay, Anna, ,, u, r, so, cute, anna]  \n",
       "17     [Dei, Rajini, pavam, da, ne, varaven, poraven,...  \n",
       "18     [செட்டியார், இன, மக்கள், சார்பாக, எனது, சொந்த,...  \n",
       "19             [Dhanush, fans, hit, like, here, ..., ..]  \n",
       "20     [Dey, dey, deyyy, ,, ,, loosu, pasangala, ,, ,...  \n",
       "21      [aathii, yenna, pa, different, aah, eruku, sama]  \n",
       "22     [Viswasam, teaser, Ku, aprm, yarllam, inga, va...  \n",
       "23     [Intha, maari, comments, ku, like, kekuravanga...  \n",
       "24     [250, k, likes, ineram, sila, arivuketta, pund...  \n",
       "25     [Ellam, okay, than, ..., .but, antha, ponnu, a...  \n",
       "26     [Short, film, ah, yum, vittu, vakalaya, ..., E...  \n",
       "27                               [Super, i, am, waiting]  \n",
       "28              [Any, Nani, and, Surya, mutual, fans, ?]  \n",
       "29     [தமிழ், நாட்ல, இருக்குற, சாதிய, பைத்தியகார, கூ...  \n",
       "...                                                  ...  \n",
       "35109  [இந்த, படத்தை, தடுக்க, நினைப்பதும், தண்டவாளத்த...  \n",
       "35110  [Ippo, dhan, theriyudhu, pullingo, Mela, ellar...  \n",
       "35111  [hair, style, very, super, punch, super, ana, ...  \n",
       "35112  [கழிவறை, சுத்தம், செய்வதற்கும், வீட்டை, சுத்தம...  \n",
       "35113  [Trailer, link, maximum, share, big, members, ...  \n",
       "35114  [GVP, Acting, Bathila, Music, podalam, ..., at...  \n",
       "35115  [Trailer, pakurathu, munadi, comment, and, lik...  \n",
       "35116  [இந்த, நேரத்தில், இந்த, படம், தேவையா, ?, இந்து...  \n",
       "35117             [Pwoli, rakshit, shetty, kerala, fans]  \n",
       "35118  [vaa, thala, ini, namma, neram, dhaan, now, it...  \n",
       "35119                [Indha, trailer, ha, ha, ha, ha, .]  \n",
       "35120  [வணக்கம், மாப்ள, சேலத்துல, இருந்து, ..., படம்,...  \n",
       "35121        [Any, one, After, siriki, promo, hit, like]  \n",
       "35122  [Suyama, sinthikka, therinjavan, thaan, HERO, ...  \n",
       "35123  [pakka, vj, anna, ..., ..uyir, rasigan, ..., ....  \n",
       "35124  [ajith, thaathaa, un, movie, nalla, illa, very...  \n",
       "35125               [Karthi, die, heartfan, sunya, fan🤗]  \n",
       "35126  [திருவாரூர், மாவட்ட, தேவேந்திர, குல, வேளாளர், ...  \n",
       "35127  [🤣🤣🤣Maran, waiting, la, panavendam, poi, saavu...  \n",
       "35128   [Serial, actres, Sathya, ku, oru, like, potunga]  \n",
       "35129  [Indha, Kalatholo, Siva, Karthikeyan, Nadike, ...  \n",
       "35130  [Naan, parha, ajith, filmle, ., Entha, film, m...  \n",
       "35131               [Vijay, sethupathi, fans, hit, like]  \n",
       "35132  [Thala, ulllaipa, uyirvu, ku, rolemodelll, nen...  \n",
       "35133  [inda, pathi, like, thala, fans, um, thandruka...  \n",
       "35134  [Trending, number, #, 2, idhukku, nammalam, ka...  \n",
       "35135  [Movie, script, super, ,, athuvum, HIP, HOP, T...  \n",
       "35136                [Just, 3k, likes, for, 300k, likes]  \n",
       "35137               [Aaloo, le, lo, ., Kanda, le, lo, .]  \n",
       "35138  [நாமக்கல், மாவட்டம், வன்னியர், சார்பாக, திரௌபத...  \n",
       "\n",
       "[35139 rows x 4 columns]"
      ]
     },
     "execution_count": 22,
     "metadata": {},
     "output_type": "execute_result"
    }
   ],
   "source": [
    "data1"
   ]
  },
  {
   "cell_type": "code",
   "execution_count": 23,
   "metadata": {},
   "outputs": [
    {
     "data": {
      "text/plain": [
       "(35139,)"
      ]
     },
     "execution_count": 23,
     "metadata": {},
     "output_type": "execute_result"
    }
   ],
   "source": [
    "k=np.array(data1.text.values)\n",
    "k.shape"
   ]
  },
  {
   "cell_type": "code",
   "execution_count": 24,
   "metadata": {},
   "outputs": [],
   "source": [
    "from nltk.tokenize import TweetTokenizer\n",
    "from sklearn.feature_extraction.text import CountVectorizer\n",
    "tweet_tokenizer = TweetTokenizer()\n",
    "vectorizer = CountVectorizer(analyzer=\"word\", tokenizer=tweet_tokenizer.tokenize, max_features = 4000)\n",
    "X_train = vectorizer.fit_transform(k).toarray()"
   ]
  },
  {
   "cell_type": "code",
   "execution_count": 25,
   "metadata": {},
   "outputs": [
    {
     "data": {
      "text/plain": [
       "array([[0, 0, 0, ..., 0, 0, 0],\n",
       "       [0, 0, 0, ..., 0, 0, 0],\n",
       "       [0, 0, 0, ..., 0, 0, 0],\n",
       "       ...,\n",
       "       [0, 0, 0, ..., 0, 0, 0],\n",
       "       [0, 0, 0, ..., 0, 0, 0],\n",
       "       [0, 0, 0, ..., 0, 0, 0]], dtype=int64)"
      ]
     },
     "execution_count": 25,
     "metadata": {},
     "output_type": "execute_result"
    }
   ],
   "source": [
    "X_train"
   ]
  },
  {
   "cell_type": "code",
   "execution_count": 26,
   "metadata": {},
   "outputs": [
    {
     "data": {
      "text/plain": [
       "(35139, 4000)"
      ]
     },
     "execution_count": 26,
     "metadata": {},
     "output_type": "execute_result"
    }
   ],
   "source": [
    "X_train.shape"
   ]
  },
  {
   "cell_type": "code",
   "execution_count": 27,
   "metadata": {},
   "outputs": [
    {
     "data": {
      "text/plain": [
       "array([[0, 0, 0, ..., 0, 0, 0],\n",
       "       [0, 0, 0, ..., 0, 0, 0],\n",
       "       [0, 0, 0, ..., 0, 0, 0],\n",
       "       ...,\n",
       "       [0, 0, 0, ..., 0, 0, 0],\n",
       "       [0, 0, 0, ..., 0, 0, 0],\n",
       "       [0, 0, 0, ..., 0, 0, 0]], dtype=int64)"
      ]
     },
     "execution_count": 27,
     "metadata": {},
     "output_type": "execute_result"
    }
   ],
   "source": [
    "p=data1['text']\n",
    "count_vect = CountVectorizer(analyzer='word', token_pattern=r'\\w{1,}')  #count vectorization\n",
    "count_vect.fit(data1['text'])      \n",
    "x_train_count =  count_vect.transform(p)\n",
    "x_train_count.toarray()"
   ]
  },
  {
   "cell_type": "code",
   "execution_count": 28,
   "metadata": {},
   "outputs": [
    {
     "data": {
      "text/plain": [
       "(35139, 47913)"
      ]
     },
     "execution_count": 28,
     "metadata": {},
     "output_type": "execute_result"
    }
   ],
   "source": [
    "from sklearn.feature_extraction.text import TfidfVectorizer\n",
    "tfidf_vect= TfidfVectorizer(analyzer='word', token_pattern=r'\\w{1,}')      #tfidf\n",
    "tfidf_vect.fit(data1['text'])\n",
    "\n",
    "x_train_tfidf =  tfidf_vect.transform(p)\n",
    "x_train_tfidf.toarray().shape"
   ]
  },
  {
   "cell_type": "code",
   "execution_count": 29,
   "metadata": {},
   "outputs": [
    {
     "data": {
      "text/plain": [
       "(35139, 47913)"
      ]
     },
     "execution_count": 29,
     "metadata": {},
     "output_type": "execute_result"
    }
   ],
   "source": [
    "x_train_count.tocsc().toarray().shape"
   ]
  },
  {
   "cell_type": "code",
   "execution_count": null,
   "metadata": {},
   "outputs": [],
   "source": []
  }
 ],
 "metadata": {
  "kernelspec": {
   "display_name": "Python 3",
   "language": "python",
   "name": "python3"
  },
  "language_info": {
   "codemirror_mode": {
    "name": "ipython",
    "version": 3
   },
   "file_extension": ".py",
   "mimetype": "text/x-python",
   "name": "python",
   "nbconvert_exporter": "python",
   "pygments_lexer": "ipython3",
   "version": "3.7.3"
  }
 },
 "nbformat": 4,
 "nbformat_minor": 2
}
